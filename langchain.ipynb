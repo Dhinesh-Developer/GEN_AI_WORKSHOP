{
  "nbformat": 4,
  "nbformat_minor": 0,
  "metadata": {
    "colab": {
      "provenance": []
    },
    "kernelspec": {
      "name": "python3",
      "display_name": "Python 3"
    },
    "language_info": {
      "name": "python"
    }
  },
  "cells": [
    {
      "cell_type": "code",
      "execution_count": 1,
      "metadata": {
        "id": "QL_qDBqTQMGF"
      },
      "outputs": [],
      "source": [
        "from langchain.prompts import PromptTemplate"
      ]
    },
    {
      "cell_type": "code",
      "source": [
        "%pip install --upgrade --quiet langchain-google-genai"
      ],
      "metadata": {
        "colab": {
          "base_uri": "https://localhost:8080/"
        },
        "id": "mJIYH7CtRDGR",
        "outputId": "9ff00b8b-c833-4153-fef0-6e4381de4561"
      },
      "execution_count": 3,
      "outputs": [
        {
          "output_type": "stream",
          "name": "stdout",
          "text": [
            "\u001b[?25l   \u001b[90m━━━━━━━━━━━━━━━━━━━━━━━━━━━━━━━━━━━━━━━━\u001b[0m \u001b[32m0.0/41.3 kB\u001b[0m \u001b[31m?\u001b[0m eta \u001b[36m-:--:--\u001b[0m\r\u001b[2K   \u001b[90m━━━━━━━━━━━━━━━━━━━━━━━━━━━━━━━━━━━━━━━━\u001b[0m \u001b[32m41.3/41.3 kB\u001b[0m \u001b[31m1.9 MB/s\u001b[0m eta \u001b[36m0:00:00\u001b[0m\n",
            "\u001b[?25h"
          ]
        }
      ]
    },
    {
      "cell_type": "code",
      "source": [
        "from langchain_google_genai import GoogleGenerativeAI"
      ],
      "metadata": {
        "id": "_Yu7MWRLRSlG"
      },
      "execution_count": 4,
      "outputs": []
    },
    {
      "cell_type": "code",
      "source": [
        "from google.colab import userdata\n",
        "key=userdata.get('hi')"
      ],
      "metadata": {
        "id": "NRat81Q6Rwxn"
      },
      "execution_count": 9,
      "outputs": []
    },
    {
      "cell_type": "code",
      "source": [
        "model=GoogleGenerativeAI(model=\"gemini-pro\",google_api_key=key)"
      ],
      "metadata": {
        "id": "C67teurrSbfE"
      },
      "execution_count": 10,
      "outputs": []
    },
    {
      "cell_type": "code",
      "source": [
        "demo_template=\"\"\"you are expert in {programming}.{query}r\"\"\""
      ],
      "metadata": {
        "id": "1yfa20gRTE5G"
      },
      "execution_count": 17,
      "outputs": []
    },
    {
      "cell_type": "code",
      "source": [
        "prompt=PromptTemplate(input_variables=[\"programming\",\"query\"],template=demo_template)"
      ],
      "metadata": {
        "id": "yyMD00YSTWXs"
      },
      "execution_count": 18,
      "outputs": []
    },
    {
      "cell_type": "code",
      "source": [
        "prompt_text=prompt.format(programming=\"java\",query=\"write a program to print diamond patter program\")"
      ],
      "metadata": {
        "id": "IPGumMFjTjql"
      },
      "execution_count": 19,
      "outputs": []
    },
    {
      "cell_type": "code",
      "source": [
        "res=model.invoke(prompt_text)\n",
        "print(res)"
      ],
      "metadata": {
        "colab": {
          "base_uri": "https://localhost:8080/"
        },
        "id": "69u3C-yUU25a",
        "outputId": "f8464887-3593-4302-97b8-7098dc534057"
      },
      "execution_count": 22,
      "outputs": [
        {
          "output_type": "stream",
          "name": "stdout",
          "text": [
            "```java\n",
            "import java.util.Scanner;\n",
            "\n",
            "public class DiamondPattern {\n",
            "\n",
            "    public static void main(String[] args) {\n",
            "        Scanner scanner = new Scanner(System.in);\n",
            "\n",
            "        // Get the number of rows from the user\n",
            "        System.out.println(\"Enter the number of rows: \");\n",
            "        int rows = scanner.nextInt();\n",
            "\n",
            "        // Print the upper half of the diamond\n",
            "        for (int i = 1; i <= rows; i++) {\n",
            "            // Print the spaces before the stars\n",
            "            for (int j = rows; j > i; j--) {\n",
            "                System.out.print(\" \");\n",
            "            }\n",
            "\n",
            "            // Print the stars\n",
            "            for (int k = 1; k <= 2 * i - 1; k++) {\n",
            "                System.out.print(\"*\");\n",
            "            }\n",
            "\n",
            "            // Move to the next line\n",
            "            System.out.println();\n",
            "        }\n",
            "\n",
            "        // Print the lower half of the diamond\n",
            "        for (int i = rows - 1; i >= 1; i--) {\n",
            "            // Print the spaces before the stars\n",
            "            for (int j = rows; j > i; j--) {\n",
            "                System.out.print(\" \");\n",
            "            }\n",
            "\n",
            "            // Print the stars\n",
            "            for (int k = 1; k <= 2 * i - 1; k++) {\n",
            "                System.out.print(\"*\");\n",
            "            }\n",
            "\n",
            "            // Move to the next line\n",
            "            System.out.println();\n",
            "        }\n",
            "    }\n",
            "}\n",
            "```\n"
          ]
        }
      ]
    },
    {
      "cell_type": "code",
      "source": [
        "# res=model.invoke(\"\")\n",
        "# print(res)"
      ],
      "metadata": {
        "colab": {
          "base_uri": "https://localhost:8080/"
        },
        "id": "4nL18zd3SwoV",
        "outputId": "a79d0a80-3755-4a91-9a0b-211498aec70c"
      },
      "execution_count": 11,
      "outputs": [
        {
          "output_type": "stream",
          "name": "stdout",
          "text": [
            "```python\n",
            "import random\n",
            "\n",
            "def chatbot():\n",
            "  # Define the possible responses of the chatbot.\n",
            "  responses = [\"Hello! How can I help you?\",\n",
            "               \"I'm not sure I understand. Can you rephrase your question?\",\n",
            "               \"That's an interesting question. I'll try to answer it to the best of my ability.\",\n",
            "               \"I'm still under development, but I'm learning more every day.\",\n",
            "               \"Thank you for your feedback. I'll try to improve my responses in the future.\"]\n",
            "\n",
            "  # Get the user's input.\n",
            "  user_input = input(\"User: \")\n",
            "\n",
            "  # Process the user's input and generate a response.\n",
            "  response = random.choice(responses)\n",
            "\n",
            "  # Print the chatbot's response.\n",
            "  print(\"Chatbot:\", response)\n",
            "\n",
            "# Run the chatbot.\n",
            "chatbot()\n",
            "```\n"
          ]
        }
      ]
    }
  ]
}